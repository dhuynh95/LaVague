{
 "cells": [
  {
   "cell_type": "code",
   "execution_count": 1,
   "metadata": {},
   "outputs": [
    {
     "ename": "KeyError",
     "evalue": "'BROWSERBASE_API_KEY'",
     "output_type": "error",
     "traceback": [
      "\u001b[0;31m---------------------------------------------------------------------------\u001b[0m",
      "\u001b[0;31mKeyError\u001b[0m                                  Traceback (most recent call last)",
      "Cell \u001b[0;32mIn[1], line 40\u001b[0m\n\u001b[1;32m     37\u001b[0m     \u001b[38;5;66;03m# Make sure to quit the driver so your session is ended!\u001b[39;00m\n\u001b[1;32m     38\u001b[0m     driver\u001b[38;5;241m.\u001b[39mquit()\n\u001b[0;32m---> 40\u001b[0m \u001b[43mrun\u001b[49m\u001b[43m(\u001b[49m\u001b[43m)\u001b[49m\n",
      "Cell \u001b[0;32mIn[1], line 29\u001b[0m, in \u001b[0;36mrun\u001b[0;34m()\u001b[0m\n\u001b[1;32m     28\u001b[0m \u001b[38;5;28;01mdef\u001b[39;00m \u001b[38;5;21mrun\u001b[39m():\n\u001b[0;32m---> 29\u001b[0m     session_id \u001b[38;5;241m=\u001b[39m \u001b[43mcreate_session\u001b[49m\u001b[43m(\u001b[49m\u001b[43m)\u001b[49m\n\u001b[1;32m     30\u001b[0m     custom_conn \u001b[38;5;241m=\u001b[39m CustomRemoteConnection(\u001b[38;5;124m'\u001b[39m\u001b[38;5;124mhttp://connect.browserbase.com/webdriver\u001b[39m\u001b[38;5;124m'\u001b[39m, session_id)\n\u001b[1;32m     31\u001b[0m     options \u001b[38;5;241m=\u001b[39m webdriver\u001b[38;5;241m.\u001b[39mChromeOptions()\n",
      "Cell \u001b[0;32mIn[1], line 9\u001b[0m, in \u001b[0;36mcreate_session\u001b[0;34m()\u001b[0m\n\u001b[1;32m      7\u001b[0m \u001b[38;5;28;01mdef\u001b[39;00m \u001b[38;5;21mcreate_session\u001b[39m():\n\u001b[1;32m      8\u001b[0m     url \u001b[38;5;241m=\u001b[39m \u001b[38;5;124m'\u001b[39m\u001b[38;5;124mhttps://www.browserbase.com/v1/sessions\u001b[39m\u001b[38;5;124m'\u001b[39m\n\u001b[0;32m----> 9\u001b[0m     headers \u001b[38;5;241m=\u001b[39m {\u001b[38;5;124m'\u001b[39m\u001b[38;5;124mContent-Type\u001b[39m\u001b[38;5;124m'\u001b[39m: \u001b[38;5;124m'\u001b[39m\u001b[38;5;124mapplication/json\u001b[39m\u001b[38;5;124m'\u001b[39m, \u001b[38;5;124m'\u001b[39m\u001b[38;5;124mx-bb-api-key\u001b[39m\u001b[38;5;124m'\u001b[39m: \u001b[43mos\u001b[49m\u001b[38;5;241;43m.\u001b[39;49m\u001b[43menviron\u001b[49m\u001b[43m[\u001b[49m\u001b[38;5;124;43m\"\u001b[39;49m\u001b[38;5;124;43mBROWSERBASE_API_KEY\u001b[39;49m\u001b[38;5;124;43m\"\u001b[39;49m\u001b[43m]\u001b[49m}\n\u001b[1;32m     10\u001b[0m     response \u001b[38;5;241m=\u001b[39m requests\u001b[38;5;241m.\u001b[39mpost(url, json\u001b[38;5;241m=\u001b[39m{ \u001b[38;5;124m\"\u001b[39m\u001b[38;5;124mprojectId\u001b[39m\u001b[38;5;124m\"\u001b[39m: os\u001b[38;5;241m.\u001b[39menviron[\u001b[38;5;124m\"\u001b[39m\u001b[38;5;124mBROWSERBASE_PROJECT_ID\u001b[39m\u001b[38;5;124m\"\u001b[39m] }, headers\u001b[38;5;241m=\u001b[39mheaders)\n\u001b[1;32m     11\u001b[0m     \u001b[38;5;28;01mreturn\u001b[39;00m response\u001b[38;5;241m.\u001b[39mjson()[\u001b[38;5;124m'\u001b[39m\u001b[38;5;124mid\u001b[39m\u001b[38;5;124m'\u001b[39m]\n",
      "File \u001b[0;32m~/miniconda3/envs/lavague/lib/python3.10/os.py:680\u001b[0m, in \u001b[0;36m_Environ.__getitem__\u001b[0;34m(self, key)\u001b[0m\n\u001b[1;32m    677\u001b[0m     value \u001b[38;5;241m=\u001b[39m \u001b[38;5;28mself\u001b[39m\u001b[38;5;241m.\u001b[39m_data[\u001b[38;5;28mself\u001b[39m\u001b[38;5;241m.\u001b[39mencodekey(key)]\n\u001b[1;32m    678\u001b[0m \u001b[38;5;28;01mexcept\u001b[39;00m \u001b[38;5;167;01mKeyError\u001b[39;00m:\n\u001b[1;32m    679\u001b[0m     \u001b[38;5;66;03m# raise KeyError with the original key value\u001b[39;00m\n\u001b[0;32m--> 680\u001b[0m     \u001b[38;5;28;01mraise\u001b[39;00m \u001b[38;5;167;01mKeyError\u001b[39;00m(key) \u001b[38;5;28;01mfrom\u001b[39;00m \u001b[38;5;28;01mNone\u001b[39;00m\n\u001b[1;32m    681\u001b[0m \u001b[38;5;28;01mreturn\u001b[39;00m \u001b[38;5;28mself\u001b[39m\u001b[38;5;241m.\u001b[39mdecodevalue(value)\n",
      "\u001b[0;31mKeyError\u001b[0m: 'BROWSERBASE_API_KEY'"
     ]
    }
   ],
   "source": [
    "from selenium import webdriver\n",
    "from selenium.webdriver.remote.remote_connection import RemoteConnection\n",
    "from selenium.webdriver.common.desired_capabilities import DesiredCapabilities\n",
    "import requests\n",
    "import os\n",
    "\n",
    "def create_session():\n",
    "    url = 'https://www.browserbase.com/v1/sessions'\n",
    "    headers = {'Content-Type': 'application/json', 'x-bb-api-key': os.environ[\"BROWSERBASE_API_KEY\"]}\n",
    "    response = requests.post(url, json={ \"projectId\": os.environ[\"BROWSERBASE_PROJECT_ID\"] }, headers=headers)\n",
    "    return response.json()['id']\n",
    "\n",
    "\n",
    "class CustomRemoteConnection(RemoteConnection):\n",
    "    _session_id = None\n",
    "\n",
    "    def __init__(self, remote_server_addr: str, session_id: str):\n",
    "        super().__init__(remote_server_addr)\n",
    "        self._session_id = session_id\n",
    "\n",
    "    def get_remote_connection_headers(self, parsed_url, keep_alive=False):\n",
    "        headers = super().get_remote_connection_headers(parsed_url, keep_alive)\n",
    "        headers.update({'x-bb-api-key': os.environ[\"BROWSERBASE_API_KEY\"]})\n",
    "        headers.update({'session-id': self._session_id})\n",
    "        return headers\n",
    "\n",
    "\n",
    "def run():\n",
    "    session_id = create_session()\n",
    "    custom_conn = CustomRemoteConnection('http://connect.browserbase.com/webdriver', session_id)\n",
    "    options = webdriver.ChromeOptions()\n",
    "    options.debugger_address = \"localhost:9223\"\n",
    "    driver = webdriver.Remote(custom_conn, options=options)\n",
    "    driver.get(\"https://www.researchgate.net/publication/309577140_Emerging_Trends_of_Intentional_Firearm_Injuries_in_Northern_India_A_Study\")\n",
    "    get_title = driver.title\n",
    "    print(get_title)\n",
    "    # Make sure to quit the driver so your session is ended!\n",
    "    driver.quit()\n",
    "\n",
    "run()\n"
   ]
  }
 ],
 "metadata": {
  "kernelspec": {
   "display_name": "lavague",
   "language": "python",
   "name": "python3"
  },
  "language_info": {
   "codemirror_mode": {
    "name": "ipython",
    "version": 3
   },
   "file_extension": ".py",
   "mimetype": "text/x-python",
   "name": "python",
   "nbconvert_exporter": "python",
   "pygments_lexer": "ipython3",
   "version": "3.10.14"
  }
 },
 "nbformat": 4,
 "nbformat_minor": 2
}
